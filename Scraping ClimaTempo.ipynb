{
 "cells": [
  {
   "cell_type": "markdown",
   "id": "944586f5",
   "metadata": {},
   "source": [
    "# Raspagem de Dados com Selenium\n",
    "\n",
    "Raspar os dados do [ClimaTempo](https://www.climatempo.com.br/previsao-do-tempo/fim-de-semana/cidade/558/saopaulo-sp)"
   ]
  },
  {
   "cell_type": "markdown",
   "id": "a0d6c522",
   "metadata": {},
   "source": [
    "## Configuração do notebook"
   ]
  },
  {
   "cell_type": "code",
   "execution_count": 1,
   "id": "3d008c18",
   "metadata": {},
   "outputs": [],
   "source": [
    "from webdriver_manager.chrome import ChromeDriverManager\n",
    "from selenium.webdriver.chrome.service import Service\n",
    "from selenium.webdriver.common.keys import Keys\n",
    "from selenium.webdriver.common.by import By\n",
    "from lib.database import Database\n",
    "from selenium import webdriver\n",
    "from datetime import datetime\n",
    "import pandas as pd\n",
    "import json\n",
    "\n",
    "DB_NAME = 'db.sqlite3'\n",
    "\n",
    "# Funções auxiliares\n",
    "def date_from_timestamp(timestamp):\n",
    "    return timestamp.strftime('%Y-%m-%d')\n",
    "\n",
    "def today():\n",
    "    return datetime.today().strftime('%Y-%m-%d')"
   ]
  },
  {
   "cell_type": "markdown",
   "id": "a0486fb8",
   "metadata": {},
   "source": [
    "## Database Setup"
   ]
  },
  {
   "cell_type": "code",
   "execution_count": 2,
   "id": "55d12f6e",
   "metadata": {},
   "outputs": [],
   "source": [
    "db = Database(DB_NAME)\n",
    "with db as connection:\n",
    "    with open('data/locais.csv') as file:\n",
    "        db.load_locais(file)"
   ]
  },
  {
   "cell_type": "markdown",
   "id": "62af268c",
   "metadata": {},
   "source": [
    "## Selenium Setup"
   ]
  },
  {
   "cell_type": "code",
   "execution_count": 3,
   "id": "cd150be9",
   "metadata": {},
   "outputs": [],
   "source": [
    "service = Service(ChromeDriverManager().install())\n",
    "driver = webdriver.Chrome(service=service)"
   ]
  },
  {
   "cell_type": "markdown",
   "id": "a5ed053c",
   "metadata": {},
   "source": [
    "OBS: o código abaixo está muito extenso e deve ser refatorado"
   ]
  },
  {
   "cell_type": "code",
   "execution_count": 4,
   "id": "2702cbd7",
   "metadata": {},
   "outputs": [
    {
     "name": "stdout",
     "output_type": "stream",
     "text": [
      "Acesso no dia 2022-08-30 da cidade São Paulo:\n",
      "\tJá existe previsão para o dia 2022-08-30!\n",
      "\tJá existe previsão para o dia 2022-08-31!\n",
      "\tJá existe previsão para o dia 2022-09-01!\n",
      "Acesso no dia 2022-08-30 da cidade Salvador:\n",
      "\tJá existe previsão para o dia 2022-08-30!\n",
      "\tJá existe previsão para o dia 2022-08-31!\n",
      "\tJá existe previsão para o dia 2022-09-01!\n"
     ]
    }
   ],
   "source": [
    "with db as connection:\n",
    "    # pega lista de locais\n",
    "    locais = db.get_locais()\n",
    "    dt_acesso = today()\n",
    "    \n",
    "    for local in locais:\n",
    "        # acessa a URL do local\n",
    "        driver.get(local['url'])\n",
    "        \n",
    "        # clica no botão 15 dias\n",
    "        driver.find_element(By.ID, 'Botao_barra_navegacao_15_dias').click()\n",
    "        \n",
    "        \n",
    "        print(f\"Acesso no dia {dt_acesso} da cidade {local['nome']}:\")\n",
    "        for i in range(1,4):\n",
    "            id = 'wrapper-chart-' + str(i)\n",
    "            element = driver.find_element(By.ID, id)\n",
    "            \n",
    "            infos = json.loads(element.get_attribute('data-infos'))\n",
    "\n",
    "            # registra o acesso no banco de dados\n",
    "            dt_previsao = infos[0]['date'].split()[0]\n",
    "            try:\n",
    "                id_acesso = db.registra_acesso(local['id'], dt_acesso, dt_previsao)\n",
    "                print(f\"\\tPrevisão para o dia {dt_previsao} feita!\")\n",
    "            except:\n",
    "                print(f\"\\tJá existe previsão para o dia {dt_previsao}!\")\n",
    "                continue\n",
    "                \n",
    "            for obj in infos:\n",
    "                db.registra_previsao(id_acesso, obj['date'].split()[1], obj['temperature']['temperature'])\n",
    "                \n",
    "driver.quit()"
   ]
  },
  {
   "cell_type": "markdown",
   "id": "a3fa3dcc",
   "metadata": {},
   "source": [
    "# Exportando o banco para CSV"
   ]
  },
  {
   "cell_type": "code",
   "execution_count": 5,
   "id": "1ff948cf",
   "metadata": {},
   "outputs": [],
   "source": [
    "def export_db_to_csv(path_to_query_file):\n",
    "    with open(path_to_query_file) as file:\n",
    "        query = file.read()\n",
    "    \n",
    "    with db as connection:\n",
    "        result = db.con.cursor().execute(query).fetchall()"
   ]
  },
  {
   "cell_type": "code",
   "execution_count": 13,
   "id": "7c697d31",
   "metadata": {},
   "outputs": [
    {
     "name": "stdout",
     "output_type": "stream",
     "text": [
      "('2022-08-30', 'São Paulo', '00:00:00') teve [10 11]\n",
      "('2022-08-30', 'São Paulo', '01:00:00') teve [11 12]\n",
      "('2022-08-30', 'São Paulo', '02:00:00') teve [12 13]\n",
      "('2022-08-30', 'São Paulo', '05:00:00') teve [12 13]\n",
      "('2022-08-30', 'São Paulo', '06:00:00') teve [12 13]\n",
      "('2022-08-30', 'São Paulo', '08:00:00') teve [12 13]\n",
      "('2022-08-30', 'São Paulo', '09:00:00') teve [12 13]\n",
      "('2022-08-30', 'São Paulo', '10:00:00') teve [13 14]\n",
      "('2022-08-30', 'São Paulo', '17:00:00') teve [14 15]\n",
      "('2022-08-30', 'São Paulo', '21:00:00') teve [10 11 13]\n",
      "('2022-08-30', 'São Paulo', '22:00:00') teve [10 11 12]\n",
      "('2022-08-30', 'São Paulo', '23:00:00') teve [10 11 12]\n",
      "('2022-08-31', 'Salvador', '00:00:00') teve [21 22]\n",
      "('2022-08-31', 'Salvador', '02:00:00') teve [20 21]\n",
      "('2022-08-31', 'Salvador', '08:00:00') teve [22 23]\n",
      "('2022-08-31', 'Salvador', '09:00:00') teve [22 23]\n",
      "('2022-08-31', 'Salvador', '10:00:00') teve [22 23]\n",
      "('2022-08-31', 'Salvador', '11:00:00') teve [22 24]\n",
      "('2022-08-31', 'Salvador', '12:00:00') teve [23 24]\n",
      "('2022-08-31', 'Salvador', '13:00:00') teve [23 24]\n",
      "('2022-08-31', 'Salvador', '14:00:00') teve [25 24]\n",
      "('2022-08-31', 'Salvador', '15:00:00') teve [23 24]\n",
      "('2022-08-31', 'Salvador', '17:00:00') teve [22 23]\n",
      "('2022-08-31', 'Salvador', '20:00:00') teve [22 23]\n",
      "('2022-08-31', 'Salvador', '21:00:00') teve [23 21]\n",
      "('2022-08-31', 'Salvador', '22:00:00') teve [24 21]\n",
      "('2022-08-31', 'Salvador', '23:00:00') teve [23 21]\n",
      "('2022-08-31', 'São Paulo', '00:00:00') teve [10 11]\n",
      "('2022-08-31', 'São Paulo', '01:00:00') teve [10 11]\n",
      "('2022-08-31', 'São Paulo', '02:00:00') teve [10 11]\n",
      "('2022-08-31', 'São Paulo', '03:00:00') teve [10 11]\n",
      "('2022-08-31', 'São Paulo', '07:00:00') teve [ 9 10]\n",
      "('2022-08-31', 'São Paulo', '08:00:00') teve [10 11]\n",
      "('2022-08-31', 'São Paulo', '10:00:00') teve [14 15]\n",
      "('2022-08-31', 'São Paulo', '11:00:00') teve [16 17]\n",
      "('2022-08-31', 'São Paulo', '16:00:00') teve [21 22]\n",
      "('2022-08-31', 'São Paulo', '17:00:00') teve [19 21]\n",
      "('2022-08-31', 'São Paulo', '18:00:00') teve [17 19]\n",
      "('2022-08-31', 'São Paulo', '19:00:00') teve [16 17]\n",
      "('2022-08-31', 'São Paulo', '20:00:00') teve [15 16]\n",
      "('2022-08-31', 'São Paulo', '21:00:00') teve [11 13]\n",
      "('2022-08-31', 'São Paulo', '22:00:00') teve [10 12]\n",
      "('2022-08-31', 'São Paulo', '23:00:00') teve [10 11]\n"
     ]
    }
   ],
   "source": [
    "# Exporta informações das previsões de todos os horarios pra todos os locais\n",
    "query=''\n",
    "with open('queries/all_previsoes.sql') as file:\n",
    "    query = file.read()\n",
    "    \n",
    "with db as connection:\n",
    "    db_df = pd.read_sql_query(query, db.con)\n",
    "    db_df.to_csv('database.csv', index=False)\n",
    "    \n",
    "for group, frame in db_df.groupby(by=['DT_PREVISAO', 'CIDADE', 'HORARIO']):\n",
    "    tmps = frame['TEMPERATURA'].unique()\n",
    "    qt_tmps = len(tmps)\n",
    "    if qt_tmps > 1:\n",
    "        print(f\"{group} teve {tmps}\")"
   ]
  },
  {
   "cell_type": "code",
   "execution_count": null,
   "id": "a1c752b0",
   "metadata": {},
   "outputs": [],
   "source": []
  }
 ],
 "metadata": {
  "kernelspec": {
   "display_name": "Python 3 (ipykernel)",
   "language": "python",
   "name": "python3"
  },
  "language_info": {
   "codemirror_mode": {
    "name": "ipython",
    "version": 3
   },
   "file_extension": ".py",
   "mimetype": "text/x-python",
   "name": "python",
   "nbconvert_exporter": "python",
   "pygments_lexer": "ipython3",
   "version": "3.10.5"
  }
 },
 "nbformat": 4,
 "nbformat_minor": 5
}

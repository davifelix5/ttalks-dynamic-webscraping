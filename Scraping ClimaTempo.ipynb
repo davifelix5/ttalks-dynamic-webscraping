{
 "cells": [
  {
   "cell_type": "markdown",
   "id": "944586f5",
   "metadata": {},
   "source": [
    "# Raspagem de Dados com Selenium\n",
    "\n",
    "Raspar os dados do [ClimaTempo](https://www.climatempo.com.br/previsao-do-tempo/fim-de-semana/cidade/558/saopaulo-sp)"
   ]
  },
  {
   "cell_type": "markdown",
   "id": "a0d6c522",
   "metadata": {},
   "source": [
    "## Configuração do notebook"
   ]
  },
  {
   "cell_type": "code",
   "execution_count": 1,
   "id": "3d008c18",
   "metadata": {},
   "outputs": [],
   "source": [
    "from webdriver_manager.chrome import ChromeDriverManager\n",
    "from selenium.webdriver.chrome.service import Service\n",
    "from selenium.webdriver.common.keys import Keys\n",
    "from selenium.webdriver.common.by import By\n",
    "from lib.database import Database\n",
    "from selenium import webdriver\n",
    "from datetime import datetime\n",
    "import pandas as pd\n",
    "import json\n",
    "\n",
    "DB_NAME = 'db.sqlite3'\n",
    "\n",
    "# Funções auxiliares\n",
    "def date_from_timestamp(timestamp):\n",
    "    return timestamp.strftime('%Y-%m-%d')\n",
    "\n",
    "def today():\n",
    "    return datetime.today().strftime('%Y-%m-%d')"
   ]
  },
  {
   "cell_type": "markdown",
   "id": "a0486fb8",
   "metadata": {},
   "source": [
    "## Database Setup"
   ]
  },
  {
   "cell_type": "code",
   "execution_count": 2,
   "id": "55d12f6e",
   "metadata": {},
   "outputs": [],
   "source": [
    "db = Database(DB_NAME)\n",
    "with db as connection:\n",
    "    with open('data/locais.csv') as file:\n",
    "        db.load_locais(file)"
   ]
  },
  {
   "cell_type": "markdown",
   "id": "62af268c",
   "metadata": {},
   "source": [
    "## Selenium Setup"
   ]
  },
  {
   "cell_type": "code",
   "execution_count": 3,
   "id": "cd150be9",
   "metadata": {},
   "outputs": [
    {
     "name": "stderr",
     "output_type": "stream",
     "text": [
      "[WDM] - Downloading: 100%|█████████████████| 6.74M/6.74M [00:00<00:00, 10.5MB/s]\n"
     ]
    }
   ],
   "source": [
    "service = Service(ChromeDriverManager().install())\n",
    "driver = webdriver.Chrome(service=service)"
   ]
  },
  {
   "cell_type": "markdown",
   "id": "a5ed053c",
   "metadata": {},
   "source": [
    "OBS: o código abaixo está muito extenso e deve ser refatorado"
   ]
  },
  {
   "cell_type": "code",
   "execution_count": 4,
   "id": "2702cbd7",
   "metadata": {},
   "outputs": [
    {
     "name": "stdout",
     "output_type": "stream",
     "text": [
      "Acesso no dia 2022-08-30 da cidade São Paulo:\n",
      "\tPrevisão para o dia 2022-08-30 feita!\n",
      "\tPrevisão para o dia 2022-08-31 feita!\n",
      "\tPrevisão para o dia 2022-09-01 feita!\n",
      "Acesso no dia 2022-08-30 da cidade Salvador:\n",
      "\tPrevisão para o dia 2022-08-30 feita!\n",
      "\tPrevisão para o dia 2022-08-31 feita!\n",
      "\tPrevisão para o dia 2022-09-01 feita!\n"
     ]
    }
   ],
   "source": [
    "with db as connection:\n",
    "    # pega lista de locais\n",
    "    locais = db.get_locais()\n",
    "    dt_acesso = today()\n",
    "    \n",
    "    for local in locais:\n",
    "        # acessa a URL do local\n",
    "        driver.get(local['url'])\n",
    "        \n",
    "        # clica no botão 15 dias\n",
    "        driver.find_element(By.ID, 'Botao_barra_navegacao_15_dias').click()\n",
    "        \n",
    "        \n",
    "        print(f\"Acesso no dia {dt_acesso} da cidade {local['nome']}:\")\n",
    "        for i in range(1,4):\n",
    "            id = 'wrapper-chart-' + str(i)\n",
    "            element = driver.find_element(By.ID, id)\n",
    "            \n",
    "            infos = json.loads(element.get_attribute('data-infos'))\n",
    "\n",
    "            # registra o acesso no banco de dados\n",
    "            dt_previsao = infos[0]['date'].split()[0]\n",
    "            try:\n",
    "                id_acesso = db.registra_acesso(local['id'], dt_acesso, dt_previsao)\n",
    "                print(f\"\\tPrevisão para o dia {dt_previsao} feita!\")\n",
    "            except:\n",
    "                print(f\"\\tJá existe previsão para o dia {dt_previsao}!\")\n",
    "                continue\n",
    "                \n",
    "            for obj in infos:\n",
    "                db.registra_previsao(id_acesso, obj['date'].split()[1], obj['temperature']['temperature'])\n",
    "                \n",
    "driver.quit()"
   ]
  },
  {
   "cell_type": "markdown",
   "id": "a3fa3dcc",
   "metadata": {},
   "source": [
    "# Exportando o banco para CSV"
   ]
  },
  {
   "cell_type": "code",
   "execution_count": 5,
   "id": "1ff948cf",
   "metadata": {},
   "outputs": [],
   "source": [
    "def export_db_to_csv(path_to_query_file):\n",
    "    with open(path_to_query_file) as file:\n",
    "        query = file.read()\n",
    "    \n",
    "    with db as connection:\n",
    "        result = db.con.cursor().execute(query).fetchall()"
   ]
  },
  {
   "cell_type": "code",
   "execution_count": 16,
   "id": "7c697d31",
   "metadata": {},
   "outputs": [
    {
     "data": {
      "text/html": [
       "<div>\n",
       "<style scoped>\n",
       "    .dataframe tbody tr th:only-of-type {\n",
       "        vertical-align: middle;\n",
       "    }\n",
       "\n",
       "    .dataframe tbody tr th {\n",
       "        vertical-align: top;\n",
       "    }\n",
       "\n",
       "    .dataframe thead th {\n",
       "        text-align: right;\n",
       "    }\n",
       "</style>\n",
       "<table border=\"1\" class=\"dataframe\">\n",
       "  <thead>\n",
       "    <tr style=\"text-align: right;\">\n",
       "      <th></th>\n",
       "      <th>CIDADE</th>\n",
       "      <th>DT_ACESSO</th>\n",
       "      <th>DT_PREVISAO</th>\n",
       "      <th>HORARIO</th>\n",
       "      <th>TEMPERATURA</th>\n",
       "    </tr>\n",
       "  </thead>\n",
       "  <tbody>\n",
       "    <tr>\n",
       "      <th>0</th>\n",
       "      <td>São Paulo</td>\n",
       "      <td>2022-08-28</td>\n",
       "      <td>2022-08-28</td>\n",
       "      <td>00:00:00</td>\n",
       "      <td>20</td>\n",
       "    </tr>\n",
       "    <tr>\n",
       "      <th>1</th>\n",
       "      <td>São Paulo</td>\n",
       "      <td>2022-08-28</td>\n",
       "      <td>2022-08-28</td>\n",
       "      <td>01:00:00</td>\n",
       "      <td>20</td>\n",
       "    </tr>\n",
       "    <tr>\n",
       "      <th>2</th>\n",
       "      <td>São Paulo</td>\n",
       "      <td>2022-08-28</td>\n",
       "      <td>2022-08-28</td>\n",
       "      <td>02:00:00</td>\n",
       "      <td>19</td>\n",
       "    </tr>\n",
       "    <tr>\n",
       "      <th>3</th>\n",
       "      <td>São Paulo</td>\n",
       "      <td>2022-08-28</td>\n",
       "      <td>2022-08-28</td>\n",
       "      <td>03:00:00</td>\n",
       "      <td>18</td>\n",
       "    </tr>\n",
       "    <tr>\n",
       "      <th>4</th>\n",
       "      <td>São Paulo</td>\n",
       "      <td>2022-08-28</td>\n",
       "      <td>2022-08-28</td>\n",
       "      <td>04:00:00</td>\n",
       "      <td>18</td>\n",
       "    </tr>\n",
       "    <tr>\n",
       "      <th>...</th>\n",
       "      <td>...</td>\n",
       "      <td>...</td>\n",
       "      <td>...</td>\n",
       "      <td>...</td>\n",
       "      <td>...</td>\n",
       "    </tr>\n",
       "    <tr>\n",
       "      <th>355</th>\n",
       "      <td>São Paulo</td>\n",
       "      <td>2022-08-30</td>\n",
       "      <td>2022-09-01</td>\n",
       "      <td>19:00:00</td>\n",
       "      <td>21</td>\n",
       "    </tr>\n",
       "    <tr>\n",
       "      <th>356</th>\n",
       "      <td>São Paulo</td>\n",
       "      <td>2022-08-30</td>\n",
       "      <td>2022-09-01</td>\n",
       "      <td>20:00:00</td>\n",
       "      <td>19</td>\n",
       "    </tr>\n",
       "    <tr>\n",
       "      <th>357</th>\n",
       "      <td>São Paulo</td>\n",
       "      <td>2022-08-30</td>\n",
       "      <td>2022-09-01</td>\n",
       "      <td>21:00:00</td>\n",
       "      <td>17</td>\n",
       "    </tr>\n",
       "    <tr>\n",
       "      <th>358</th>\n",
       "      <td>São Paulo</td>\n",
       "      <td>2022-08-30</td>\n",
       "      <td>2022-09-01</td>\n",
       "      <td>22:00:00</td>\n",
       "      <td>16</td>\n",
       "    </tr>\n",
       "    <tr>\n",
       "      <th>359</th>\n",
       "      <td>São Paulo</td>\n",
       "      <td>2022-08-30</td>\n",
       "      <td>2022-09-01</td>\n",
       "      <td>23:00:00</td>\n",
       "      <td>14</td>\n",
       "    </tr>\n",
       "  </tbody>\n",
       "</table>\n",
       "<p>216 rows × 5 columns</p>\n",
       "</div>"
      ],
      "text/plain": [
       "        CIDADE   DT_ACESSO DT_PREVISAO   HORARIO  TEMPERATURA\n",
       "0    São Paulo  2022-08-28  2022-08-28  00:00:00           20\n",
       "1    São Paulo  2022-08-28  2022-08-28  01:00:00           20\n",
       "2    São Paulo  2022-08-28  2022-08-28  02:00:00           19\n",
       "3    São Paulo  2022-08-28  2022-08-28  03:00:00           18\n",
       "4    São Paulo  2022-08-28  2022-08-28  04:00:00           18\n",
       "..         ...         ...         ...       ...          ...\n",
       "355  São Paulo  2022-08-30  2022-09-01  19:00:00           21\n",
       "356  São Paulo  2022-08-30  2022-09-01  20:00:00           19\n",
       "357  São Paulo  2022-08-30  2022-09-01  21:00:00           17\n",
       "358  São Paulo  2022-08-30  2022-09-01  22:00:00           16\n",
       "359  São Paulo  2022-08-30  2022-09-01  23:00:00           14\n",
       "\n",
       "[216 rows x 5 columns]"
      ]
     },
     "execution_count": 16,
     "metadata": {},
     "output_type": "execute_result"
    }
   ],
   "source": [
    "# Exporta informações das previsões de todos os horarios pra todos os locais\n",
    "query=''\n",
    "with open('queries/all_previsoes.sql') as file:\n",
    "    query = file.read()\n",
    "    \n",
    "with db as connection:\n",
    "    db_df = pd.read_sql_query(query, db.con)\n",
    "    db_df.to_csv('database.csv', index=False)"
   ]
  },
  {
   "cell_type": "code",
   "execution_count": null,
   "id": "a1c752b0",
   "metadata": {},
   "outputs": [],
   "source": []
  }
 ],
 "metadata": {
  "kernelspec": {
   "display_name": "Python 3 (ipykernel)",
   "language": "python",
   "name": "python3"
  },
  "language_info": {
   "codemirror_mode": {
    "name": "ipython",
    "version": 3
   },
   "file_extension": ".py",
   "mimetype": "text/x-python",
   "name": "python",
   "nbconvert_exporter": "python",
   "pygments_lexer": "ipython3",
   "version": "3.10.5"
  }
 },
 "nbformat": 4,
 "nbformat_minor": 5
}

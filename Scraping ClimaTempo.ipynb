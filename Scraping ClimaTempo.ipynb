{
 "cells": [
  {
   "cell_type": "markdown",
   "id": "944586f5",
   "metadata": {},
   "source": [
    "# Raspagem de Dados com Selenium\n",
    "\n",
    "Raspar os dados do [ClimaTempo](https://www.climatempo.com.br/previsao-do-tempo/fim-de-semana/cidade/558/saopaulo-sp)"
   ]
  },
  {
   "cell_type": "markdown",
   "id": "a0d6c522",
   "metadata": {},
   "source": [
    "## Configuração do notebook"
   ]
  },
  {
   "cell_type": "code",
   "execution_count": 8,
   "id": "3d008c18",
   "metadata": {},
   "outputs": [],
   "source": [
    "from webdriver_manager.chrome import ChromeDriverManager\n",
    "from selenium.webdriver.chrome.service import Service\n",
    "from selenium.webdriver.common.keys import Keys\n",
    "from selenium.webdriver.common.by import By\n",
    "from lib.database import Database\n",
    "from selenium import webdriver\n",
    "from datetime import datetime\n",
    "import pandas as pd\n",
    "import json\n",
    "\n",
    "DB_NAME = 'db.sqlite3'\n",
    "\n",
    "# Funções auxiliares\n",
    "def date_from_timestamp(timestamp):\n",
    "    return timestamp.strftime('%Y-%m-%d')\n",
    "\n",
    "def today():\n",
    "    return datetime.today().strftime('%Y-%m-%d')"
   ]
  },
  {
   "cell_type": "markdown",
   "id": "a0486fb8",
   "metadata": {},
   "source": [
    "## Database Setup"
   ]
  },
  {
   "cell_type": "code",
   "execution_count": 9,
   "id": "55d12f6e",
   "metadata": {},
   "outputs": [],
   "source": [
    "db = Database(DB_NAME)\n",
    "with db as connection:\n",
    "    with open('data/locais.csv') as file:\n",
    "        db.load_locais(file)"
   ]
  },
  {
   "cell_type": "markdown",
   "id": "62af268c",
   "metadata": {},
   "source": [
    "## Selenium Setup"
   ]
  },
  {
   "cell_type": "code",
   "execution_count": 10,
   "id": "cd150be9",
   "metadata": {},
   "outputs": [
    {
     "name": "stderr",
     "output_type": "stream",
     "text": [
      "\n",
      "\n",
      "====== WebDriver manager ======\n",
      "Current google-chrome version is 103.0.5060\n",
      "Get LATEST chromedriver version for 103.0.5060 google-chrome\n",
      "Driver [/home/rodrigo/.wdm/drivers/chromedriver/linux64/103.0.5060.134/chromedriver] found in cache\n"
     ]
    }
   ],
   "source": [
    "service = Service(ChromeDriverManager().install())\n",
    "driver = webdriver.Chrome(service=service)"
   ]
  },
  {
   "cell_type": "markdown",
   "id": "a5ed053c",
   "metadata": {},
   "source": [
    "OBS: o código abaixo está muito extenso e deve ser refatorado"
   ]
  },
  {
   "cell_type": "code",
   "execution_count": 11,
   "id": "2702cbd7",
   "metadata": {},
   "outputs": [
    {
     "name": "stdout",
     "output_type": "stream",
     "text": [
      "Acesso no dia 2022-08-28 da cidade São Paulo:\n",
      "\tPrevisão para o dia 2022-08-28 feita!\n",
      "\tPrevisão para o dia 2022-08-29 feita!\n",
      "\tPrevisão para o dia 2022-08-30 feita!\n",
      "Acesso no dia 2022-08-28 da cidade Salvador:\n",
      "\tPrevisão para o dia 2022-08-28 feita!\n",
      "\tPrevisão para o dia 2022-08-29 feita!\n",
      "\tPrevisão para o dia 2022-08-30 feita!\n"
     ]
    }
   ],
   "source": [
    "with db as connection:\n",
    "    # pega lista de locais\n",
    "    locais = db.get_locais()\n",
    "    dt_acesso = today()\n",
    "    \n",
    "    for local in locais:\n",
    "        # acessa a URL do local\n",
    "        driver.get(local['url'])\n",
    "        \n",
    "        # clica no botão 15 dias\n",
    "        driver.find_element(By.ID, 'Botao_barra_navegacao_15_dias').click()\n",
    "        \n",
    "        \n",
    "        print(f\"Acesso no dia {dt_acesso} da cidade {local['nome']}:\")\n",
    "        for i in range(1,4):\n",
    "            id = 'wrapper-chart-' + str(i)\n",
    "            element = driver.find_element(By.ID, id)\n",
    "            \n",
    "            infos = json.loads(element.get_attribute('data-infos'))\n",
    "\n",
    "            # registra o acesso no banco de dados\n",
    "            dt_previsao = infos[0]['date'].split()[0]\n",
    "            try:\n",
    "                id_acesso = db.registra_acesso(local['id'], dt_acesso, dt_previsao)\n",
    "                print(f\"\\tPrevisão para o dia {dt_previsao} feita!\")\n",
    "            except:\n",
    "                print(f\"\\tJá existe previsão para o dia {dt_previsao}!\")\n",
    "                continue\n",
    "                \n",
    "            for obj in infos:\n",
    "                db.registra_previsao(id_acesso, obj['date'].split()[1], obj['temperature']['temperature'])\n",
    "                \n",
    "driver.quit()"
   ]
  },
  {
   "cell_type": "markdown",
   "id": "a3fa3dcc",
   "metadata": {},
   "source": [
    "# Exportando o banco para CSV"
   ]
  },
  {
   "cell_type": "code",
   "execution_count": 12,
   "id": "7c697d31",
   "metadata": {},
   "outputs": [],
   "source": [
    "query = ''\n",
    "\n",
    "with open('queries/all_previsoes.sql') as file:\n",
    "    query = file.read()\n",
    "    \n",
    "with db as connection:\n",
    "    \n",
    "    result = db.con.cursor().execute(query).fetchall()"
   ]
  },
  {
   "cell_type": "code",
   "execution_count": null,
   "id": "4eb0929f",
   "metadata": {},
   "outputs": [],
   "source": []
  }
 ],
 "metadata": {
  "kernelspec": {
   "display_name": "Python 3 (ipykernel)",
   "language": "python",
   "name": "python3"
  },
  "language_info": {
   "codemirror_mode": {
    "name": "ipython",
    "version": 3
   },
   "file_extension": ".py",
   "mimetype": "text/x-python",
   "name": "python",
   "nbconvert_exporter": "python",
   "pygments_lexer": "ipython3",
   "version": "3.9.7"
  }
 },
 "nbformat": 4,
 "nbformat_minor": 5
}

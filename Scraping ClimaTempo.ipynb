{
 "cells": [
  {
   "cell_type": "markdown",
   "id": "944586f5",
   "metadata": {},
   "source": [
    "# Raspagem de Dados com Selenium\n",
    "\n",
    "Raspar os dados do [ClimaTempo](https://www.climatempo.com.br/previsao-do-tempo/fim-de-semana/cidade/558/saopaulo-sp)"
   ]
  },
  {
   "cell_type": "markdown",
   "id": "a0d6c522",
   "metadata": {},
   "source": [
    "## Configuração do notebook"
   ]
  },
  {
   "cell_type": "code",
   "execution_count": 1,
   "id": "3d008c18",
   "metadata": {},
   "outputs": [],
   "source": [
    "from webdriver_manager.chrome import ChromeDriverManager\n",
    "from selenium.webdriver.chrome.service import Service\n",
    "from selenium.webdriver.common.keys import Keys\n",
    "from selenium.webdriver.common.by import By\n",
    "from selenium.webdriver.support.ui import WebDriverWait\n",
    "from lib.database import Database\n",
    "from selenium import webdriver\n",
    "from datetime import datetime\n",
    "import pandas as pd\n",
    "import json\n",
    "from sqlite3 import IntegrityError\n",
    "\n",
    "DB_NAME = 'db.sqlite3'\n",
    "\n",
    "# Funções auxiliares\n",
    "def date_from_timestamp(timestamp):\n",
    "    return timestamp.strftime('%Y-%m-%d')\n",
    "\n",
    "def today():\n",
    "    return datetime.today().strftime('%Y-%m-%d')"
   ]
  },
  {
   "cell_type": "markdown",
   "id": "a0486fb8",
   "metadata": {},
   "source": [
    "## Database Setup"
   ]
  },
  {
   "cell_type": "markdown",
   "id": "bc500ad5",
   "metadata": {},
   "source": [
    "- Inicializando os banco de dados"
   ]
  },
  {
   "cell_type": "code",
   "execution_count": 2,
   "id": "9b1512de",
   "metadata": {},
   "outputs": [],
   "source": [
    "db = Database(DB_NAME)"
   ]
  },
  {
   "cell_type": "markdown",
   "id": "38fc9a10",
   "metadata": {},
   "source": [
    "- Carregando os locais no arquivo csv e armazenando-os no banco de dados\n",
    "- Não serão inseridos novamente locais com o mesmo nome"
   ]
  },
  {
   "cell_type": "code",
   "execution_count": 3,
   "id": "55d12f6e",
   "metadata": {},
   "outputs": [],
   "source": [
    "with db as connection:\n",
    "    with open('data/locais.csv') as file:\n",
    "        db.load_locais(file)"
   ]
  },
  {
   "cell_type": "markdown",
   "id": "62af268c",
   "metadata": {},
   "source": [
    "## Web Scraping com Selenium"
   ]
  },
  {
   "cell_type": "markdown",
   "id": "131c3879",
   "metadata": {},
   "source": [
    "### Código de Scraping\n",
    "\n",
    "- Primeiro, é preciso instalar o WebDriver para que o Selenium possa operar as automações em um navegador\n",
    "\n",
    "- Para isso, será utilizada a biblioteca **WebDriver Managaer**, como explicado no artigo\n",
    "\n",
    "- Queremos buscar a temperatura registrada  O link do local é uma página no climatempo que não possui as informações desejadas\n",
    "\n",
    "- Para isso, primeiro vamos acessar a página do climatempo para o local usando o Selenium  \n",
    "\n",
    "- É possível perceber que a informação desejada está na página \"15 dias\". Para acessar essa página, é preciso clinar no link correspondente, evidenciando a necessidade de um _scraping_ dinâmico com _Selenium_.\n",
    "\n",
    "- Os dados desejados estão localizados em um gráficos e os dados que formam esse gráfico está dispostos no atributo _data-infos_.\n",
    "\n",
    "- Para o dia do acesso, a previsão está no elemento de id _wrapper-chart-1_, enquanto as previsões para cada hora dos dois dias seguintes estão dos elementos _wrapper-chart-2_ e _wrapper-char-3_, respectivamente."
   ]
  },
  {
   "cell_type": "markdown",
   "id": "f125dcea",
   "metadata": {},
   "source": [
    "- O atributo _data-infos_ contém um vetor com todas as horas dia: de 00h até as 23h. Esse vetor tem a seguinte forma\n",
    "\n",
    "```\n",
    "[\n",
    "   {\n",
    "       \"date\":\"2022-08-31 00:00:00\",\n",
    "       \"temperature\": { \"temperature\":11 },\n",
    "   },\n",
    "     ...\n",
    "   {\n",
    "       \"date\":\"2022-08-31 23:00:00\",\n",
    "           \"temperature\":{ \"temperature\":11 },\n",
    "   }\n",
    "]     \n",
    "```"
   ]
  },
  {
   "cell_type": "code",
   "execution_count": 4,
   "id": "dde64e0d",
   "metadata": {},
   "outputs": [],
   "source": [
    "def scrape_location(driver, local):\n",
    "    driver.get(local['url'])\n",
    "    dt_acesso = today()\n",
    "    \n",
    "    # achando o botão para a previsão de 15 dias e clicando\n",
    "    predictions_15_days_btn = driver.find_element(By.ID, 'Botao_barra_navegacao_15_dias')\n",
    "    driver.execute_script('arguments[0].click();', predictions_15_days_btn)\n",
    "    \n",
    "    for elementIndex in range(1, 4):\n",
    "        with db as connection:\n",
    "            elementId = f\"wrapper-chart-{elementIndex}\"\n",
    "            element = driver.find_element(By.ID, elementId)\n",
    "\n",
    "            data = json.loads(element.get_attribute(\"data-infos\"))\n",
    "\n",
    "            dt_previsao = data[0]['date'].split()[0]\n",
    "\n",
    "            # Registrando um acesso para o dia e o local da previsão que está sendo feita\n",
    "            try:\n",
    "                id_acesso = db.registra_acesso(local['id'], dt_acesso, dt_previsao)\n",
    "            except IntegrityError:\n",
    "                print(\"Acesso já feito\")\n",
    "                continue\n",
    "\n",
    "            for predictin_to_hour in data:\n",
    "                horario_previsao = predictin_to_hour['date'].split()[1]\n",
    "                temperature_value = predictin_to_hour['temperature']['temperature']\n",
    "                db.registra_previsao(id_acesso, horario_previsao, temperature_value)"
   ]
  },
  {
   "cell_type": "code",
   "execution_count": 5,
   "id": "64128328",
   "metadata": {},
   "outputs": [],
   "source": [
    "# Carregando os locais\n",
    "with db as connection:\n",
    "    locais = db.get_locais()\n",
    "    \n",
    "# Instanciando o driver com Web Driver Manager\n",
    "service = Service(ChromeDriverManager().install())\n",
    "driver = webdriver.Chrome(service=service)\n",
    "\n",
    "for local in locais:\n",
    "    scrape_location(driver, local)\n",
    "\n",
    "driver.quit()"
   ]
  },
  {
   "cell_type": "markdown",
   "id": "a3fa3dcc",
   "metadata": {},
   "source": [
    "# Exportando o banco para CSV"
   ]
  },
  {
   "cell_type": "code",
   "execution_count": null,
   "id": "1ff948cf",
   "metadata": {},
   "outputs": [],
   "source": [
    "def export_db_to_csv(path_to_query_file):\n",
    "    with open(path_to_query_file) as file:\n",
    "        query = file.read()\n",
    "    \n",
    "    with db as connection:\n",
    "        result = db.con.cursor().execute(query).fetchall()"
   ]
  },
  {
   "cell_type": "code",
   "execution_count": null,
   "id": "7c697d31",
   "metadata": {},
   "outputs": [],
   "source": [
    "# Exporta informações das previsões de todos os horarios pra todos os locais\n",
    "with open('queries/all_previsoes.sql') as file:\n",
    "    query = file.read()\n",
    "\n",
    "with db as connection:\n",
    "    db_df = pd.read_sql_query(query, db.con)\n",
    "    db_df.to_csv('database.csv', index=False)\n",
    "\n",
    "for group, frame in db_df.groupby(by=['DT_PREVISAO', 'CIDADE', 'HORARIO']):\n",
    "    tmps = frame['TEMPERATURA'].unique()\n",
    "    qt_tmps = len(tmps)\n",
    "    if qt_tmps > 1:\n",
    "        print(f\"{group} teve {tmps}\")"
   ]
  }
 ],
 "metadata": {
  "kernelspec": {
   "display_name": "Python 3 (ipykernel)",
   "language": "python",
   "name": "python3"
  },
  "language_info": {
   "codemirror_mode": {
    "name": "ipython",
    "version": 3
   },
   "file_extension": ".py",
   "mimetype": "text/x-python",
   "name": "python",
   "nbconvert_exporter": "python",
   "pygments_lexer": "ipython3",
   "version": "3.10.2"
  }
 },
 "nbformat": 4,
 "nbformat_minor": 5
}
